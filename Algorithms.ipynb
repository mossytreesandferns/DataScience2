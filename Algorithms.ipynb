{
  "nbformat": 4,
  "nbformat_minor": 0,
  "metadata": {
    "colab": {
      "name": "Algorithms.ipynb",
      "provenance": [],
      "collapsed_sections": [],
      "authorship_tag": "ABX9TyPwkDhQ843j2hMgsBAYSh73",
      "include_colab_link": true
    },
    "kernelspec": {
      "name": "python3",
      "display_name": "Python 3"
    }
  },
  "cells": [
    {
      "cell_type": "markdown",
      "metadata": {
        "id": "view-in-github",
        "colab_type": "text"
      },
      "source": [
        "<a href=\"https://colab.research.google.com/github/mossytreesandferns/DataScience2/blob/master/Algorithms.ipynb\" target=\"_parent\"><img src=\"https://colab.research.google.com/assets/colab-badge.svg\" alt=\"Open In Colab\"/></a>"
      ]
    },
    {
      "cell_type": "code",
      "metadata": {
        "id": "ijGhQTXJEy7u",
        "colab_type": "code",
        "colab": {
          "base_uri": "https://localhost:8080/",
          "height": 122
        },
        "outputId": "857caf89-4804-4aab-cb3e-4481a744a82b"
      },
      "source": [
        "#Mount my drive- run the code, go to the link, accept.\n",
        "from google.colab import drive\n",
        "drive.mount('/content/gdrive')"
      ],
      "execution_count": 1,
      "outputs": [
        {
          "output_type": "stream",
          "text": [
            "Go to this URL in a browser: https://accounts.google.com/o/oauth2/auth?client_id=947318989803-6bn6qk8qdgf4n4g3pfee6491hc0brc4i.apps.googleusercontent.com&redirect_uri=urn%3aietf%3awg%3aoauth%3a2.0%3aoob&response_type=code&scope=email%20https%3a%2f%2fwww.googleapis.com%2fauth%2fdocs.test%20https%3a%2f%2fwww.googleapis.com%2fauth%2fdrive%20https%3a%2f%2fwww.googleapis.com%2fauth%2fdrive.photos.readonly%20https%3a%2f%2fwww.googleapis.com%2fauth%2fpeopleapi.readonly\n",
            "\n",
            "Enter your authorization code:\n",
            "··········\n",
            "Mounted at /content/gdrive\n"
          ],
          "name": "stdout"
        }
      ]
    },
    {
      "cell_type": "code",
      "metadata": {
        "id": "aUkEBWJVE56_",
        "colab_type": "code",
        "colab": {
          "base_uri": "https://localhost:8080/",
          "height": 35
        },
        "outputId": "2f59e7f0-a4c7-4c83-f77e-439338919aec"
      },
      "source": [
        "#Change working directory to make it easier to access the files\n",
        "import os\n",
        "os.chdir(\"/content/gdrive/My Drive/Colab Notebooks/\")\n",
        "os.getcwd()"
      ],
      "execution_count": 2,
      "outputs": [
        {
          "output_type": "execute_result",
          "data": {
            "application/vnd.google.colaboratory.intrinsic+json": {
              "type": "string"
            },
            "text/plain": [
              "'/content/gdrive/My Drive/Colab Notebooks'"
            ]
          },
          "metadata": {
            "tags": []
          },
          "execution_count": 2
        }
      ]
    },
    {
      "cell_type": "code",
      "metadata": {
        "id": "atdfEjOfKj5F",
        "colab_type": "code",
        "colab": {}
      },
      "source": [
        "import numpy as np\n",
        "import random"
      ],
      "execution_count": 3,
      "outputs": []
    },
    {
      "cell_type": "markdown",
      "metadata": {
        "id": "6c7BRptTLtHd",
        "colab_type": "text"
      },
      "source": [
        "## Binary Search\n",
        "Sorted arrays. Search takes the number of steps max to divide array in half until item is found.  This amounts to O(logn) runtime."
      ]
    },
    {
      "cell_type": "code",
      "metadata": {
        "id": "5wC-OULlLrOe",
        "colab_type": "code",
        "colab": {
          "base_uri": "https://localhost:8080/",
          "height": 153
        },
        "outputId": "1f1bd2ce-0068-4aa1-f953-e09f3509b879"
      },
      "source": [
        "np.random.seed(42)\n",
        "nums = np.random.randint(1,150,100)\n",
        "nums"
      ],
      "execution_count": 11,
      "outputs": [
        {
          "output_type": "execute_result",
          "data": {
            "text/plain": [
              "array([103,  93,  15, 107,  72,  21, 103, 122,  75,  88, 117, 100, 104,\n",
              "       131,  53,   2,  88,  38, 130,  21,  58,  22,  89,  49,  59,  15,\n",
              "        51, 108,  55,  64, 131,  51, 135,  21,  73,  18, 132,  89,  60,\n",
              "        14,   9,  90,  53, 130,  84,  92, 111,   8,  35,  81,  50, 104,\n",
              "       132,   2, 134,  54, 106,   4,  54, 146,  44,  14,  95,  48,  15,\n",
              "        40,  82, 111,  53,  24, 124,  41,  15,  45,  65,  89,  71,   9,\n",
              "        88, 129, 136,  63, 139,  81, 136,  33, 123,   5,  41,  28, 135,\n",
              "        72,  12,  33,  48,  62,  37,  99, 104,  35])"
            ]
          },
          "metadata": {
            "tags": []
          },
          "execution_count": 11
        }
      ]
    },
    {
      "cell_type": "code",
      "metadata": {
        "id": "d3TcTCRDL29b",
        "colab_type": "code",
        "colab": {
          "base_uri": "https://localhost:8080/",
          "height": 34
        },
        "outputId": "353ac874-e61c-4bfe-bdcd-29e456d12338"
      },
      "source": [
        "nums = sorted(nums)\n",
        "nums[:15]"
      ],
      "execution_count": 12,
      "outputs": [
        {
          "output_type": "execute_result",
          "data": {
            "text/plain": [
              "[2, 2, 4, 5, 8, 9, 9, 12, 14, 14, 15, 15, 15, 15, 18]"
            ]
          },
          "metadata": {
            "tags": []
          },
          "execution_count": 12
        }
      ]
    },
    {
      "cell_type": "code",
      "metadata": {
        "id": "Bc4knyYVP2OC",
        "colab_type": "code",
        "colab": {}
      },
      "source": [
        "serch_term = 104"
      ],
      "execution_count": 13,
      "outputs": []
    },
    {
      "cell_type": "code",
      "metadata": {
        "id": "kCw6B1wqPyt9",
        "colab_type": "code",
        "colab": {}
      },
      "source": [
        "# Linear\n",
        "def linear_search(array, search_term):\n",
        "  for i in array:\n",
        "    if array[i] == search_term:\n",
        "      return True\n",
        "    else:\n",
        "      return False  "
      ],
      "execution_count": 14,
      "outputs": []
    },
    {
      "cell_type": "code",
      "metadata": {
        "id": "EzMuCu3aMyKu",
        "colab_type": "code",
        "colab": {
          "base_uri": "https://localhost:8080/",
          "height": 34
        },
        "outputId": "da834bd7-e328-4065-c65d-cdc4b01a615a"
      },
      "source": [
        "# Iterative\n",
        "\n",
        "def binary_search_it(array, search_term):\n",
        "  low = 0\n",
        "  high = len(array) -1\n",
        "  while low < high:\n",
        "    mid = (low + high)//2\n",
        "    if search_term == array[mid]:\n",
        "      return True\n",
        "    elif search_term < array[mid]: \n",
        "      high = mid - 1\n",
        "    elif search_term > array[mid]:\n",
        "      low = mid + 1\n",
        "  return False    \n",
        "\n",
        "binary_search_it(nums, 111), binary_search_it(nums, 3), binary_search_it(nums, 149)  "
      ],
      "execution_count": 23,
      "outputs": [
        {
          "output_type": "execute_result",
          "data": {
            "text/plain": [
              "(True, False, False)"
            ]
          },
          "metadata": {
            "tags": []
          },
          "execution_count": 23
        }
      ]
    },
    {
      "cell_type": "code",
      "metadata": {
        "id": "ePQy0q9rSYd3",
        "colab_type": "code",
        "colab": {
          "base_uri": "https://localhost:8080/",
          "height": 34
        },
        "outputId": "b7f9530e-ba15-4a5e-ac69-09c5ce5df806"
      },
      "source": [
        "# Recursive\n",
        "def binary_search_re(array, search_term, low, high):\n",
        "    if low > high:\n",
        "      return False\n",
        "    else:  \n",
        "      mid = len(array)//2\n",
        "      if search_term == array[mid]:\n",
        "          return True\n",
        "\n",
        "      elif search_term > array[mid]:\n",
        "          return binary_search_re(array[mid +1:], search_term, low, mid-1)\n",
        "\n",
        "      elif search_term < array[mid]:\n",
        "          return binary_search_re(array[:mid-1], search_term, mid + 1, high) \n",
        "\n",
        "binary_search_re(nums, 111, nums[0], nums[-1]), binary_search_re(nums, 3,nums[0], nums[-1]), binary_search_re(nums, 14, nums[0], nums[-1])       "
      ],
      "execution_count": 34,
      "outputs": [
        {
          "output_type": "execute_result",
          "data": {
            "text/plain": [
              "(True, False, False)"
            ]
          },
          "metadata": {
            "tags": []
          },
          "execution_count": 34
        }
      ]
    },
    {
      "cell_type": "markdown",
      "metadata": {
        "id": "qE5pV50GrzkB",
        "colab_type": "text"
      },
      "source": [
        "## Bubble sort\n",
        "Nested loops are necessary because iteration will only move through the array with the item at index 0 if only one loop is implemented.<br>\n",
        "Runtime O(n^2) Space O(1) (sorting performed in place). No external data structures required."
      ]
    },
    {
      "cell_type": "code",
      "metadata": {
        "id": "F7fwjRj2Woef",
        "colab_type": "code",
        "colab": {
          "base_uri": "https://localhost:8080/",
          "height": 153
        },
        "outputId": "32c96a53-b3ba-47ec-f561-a5a9d0ea1379"
      },
      "source": [
        "np.random.seed(29)\n",
        "nums = np.random.randint(1,150,100)\n",
        "nums"
      ],
      "execution_count": 35,
      "outputs": [
        {
          "output_type": "execute_result",
          "data": {
            "text/plain": [
              "array([116,  35,  41,  97, 106, 114,  98,  95,  95,  70, 149,  65, 131,\n",
              "        16, 103,  59,  12,  25,   4, 124,  79,  27,  14,  24,  33,  51,\n",
              "        67, 105,   2, 124,  21, 119,  60, 135,  85,  45,  30, 108, 122,\n",
              "        60,  48, 133, 116,   5,  79,  17,   5,  68,  47,  79, 133,  12,\n",
              "        34,  79, 149,  87,  15,  10,  55,  93,  33, 101,  56,   7,  34,\n",
              "        86,  19,  93,  19, 132, 121,  72,  20,  96,  18,  66, 124,  93,\n",
              "        95,  98,   1,  92,  53,  66,  60,  78, 134,  14,  70,  74, 141,\n",
              "       147, 108,  20,  50,   7,  89, 126,  88, 146])"
            ]
          },
          "metadata": {
            "tags": []
          },
          "execution_count": 35
        }
      ]
    },
    {
      "cell_type": "code",
      "metadata": {
        "id": "qGSZnDg3r2oY",
        "colab_type": "code",
        "colab": {
          "base_uri": "https://localhost:8080/",
          "height": 153
        },
        "outputId": "e90530cd-f7a9-4644-818b-cfe4b32db11e"
      },
      "source": [
        "def bubble_sort(array):\n",
        "  for j in range(len(array)):\n",
        "    for i in range(len(array)-1):\n",
        "      if array[i] > array[i + 1]:\n",
        "        placeholder = array[i]\n",
        "        array[i] = array[i+1]\n",
        "        array[i+1] = placeholder\n",
        "  return array      \n",
        "\n",
        "bubble_sort(nums)"
      ],
      "execution_count": 38,
      "outputs": [
        {
          "output_type": "execute_result",
          "data": {
            "text/plain": [
              "array([  1,   2,   4,   5,   5,   7,   7,  10,  12,  12,  14,  14,  15,\n",
              "        16,  17,  18,  19,  19,  20,  20,  21,  24,  25,  27,  30,  33,\n",
              "        33,  34,  34,  35,  41,  45,  47,  48,  50,  51,  53,  55,  56,\n",
              "        59,  60,  60,  60,  65,  66,  66,  67,  68,  70,  70,  72,  74,\n",
              "        78,  79,  79,  79,  79,  85,  86,  87,  88,  89,  92,  93,  93,\n",
              "        93,  95,  95,  95,  96,  97,  98,  98, 101, 103, 105, 106, 108,\n",
              "       108, 114, 116, 116, 119, 121, 122, 124, 124, 124, 126, 131, 132,\n",
              "       133, 133, 134, 135, 141, 146, 147, 149, 149])"
            ]
          },
          "metadata": {
            "tags": []
          },
          "execution_count": 38
        }
      ]
    },
    {
      "cell_type": "markdown",
      "metadata": {
        "id": "UdNKv98Y20x6",
        "colab_type": "text"
      },
      "source": [
        "## Selection sort\n",
        "Item by item, array is continually divided into two sections: the sorted section and the unsorted section. Switching of the smallest value.<br>\n",
        "Runtime O(n^2) average and worst. Space O(1) (sorting performed in place)."
      ]
    },
    {
      "cell_type": "code",
      "metadata": {
        "id": "Cq2UhI2f2EbO",
        "colab_type": "code",
        "colab": {
          "base_uri": "https://localhost:8080/",
          "height": 153
        },
        "outputId": "39f2dbba-74d4-4b6a-e7c4-9e0af26b65da"
      },
      "source": [
        "def selection_sort(array):\n",
        "  for i in range(0,len(array)-1):\n",
        "    minimum_index = array[i]\n",
        "    for j in range(i + 1, len(array)):\n",
        "      if array[j] < minimum_index:\n",
        "        minimum_index = array[j]\n",
        "  return array\n",
        "\n",
        "\n",
        "selection_sort(nums)  "
      ],
      "execution_count": 43,
      "outputs": [
        {
          "output_type": "execute_result",
          "data": {
            "text/plain": [
              "array([  1,   2,   4,   5,   5,   7,   7,  10,  12,  12,  14,  14,  15,\n",
              "        16,  17,  18,  19,  19,  20,  20,  21,  24,  25,  27,  30,  33,\n",
              "        33,  34,  34,  35,  41,  45,  47,  48,  50,  51,  53,  55,  56,\n",
              "        59,  60,  60,  60,  65,  66,  66,  67,  68,  70,  70,  72,  74,\n",
              "        78,  79,  79,  79,  79,  85,  86,  87,  88,  89,  92,  93,  93,\n",
              "        93,  95,  95,  95,  96,  97,  98,  98, 101, 103, 105, 106, 108,\n",
              "       108, 114, 116, 116, 119, 121, 122, 124, 124, 124, 126, 131, 132,\n",
              "       133, 133, 134, 135, 141, 146, 147, 149, 149])"
            ]
          },
          "metadata": {
            "tags": []
          },
          "execution_count": 43
        }
      ]
    },
    {
      "cell_type": "markdown",
      "metadata": {
        "id": "6emgw4JY789D",
        "colab_type": "text"
      },
      "source": [
        "## Insertion sort\n",
        "Creating a sorted list from left to right.  <br>\n",
        "Runtime O(n^2). Space O(n)."
      ]
    },
    {
      "cell_type": "code",
      "metadata": {
        "id": "lUd4AlUD7gI0",
        "colab_type": "code",
        "colab": {
          "base_uri": "https://localhost:8080/",
          "height": 153
        },
        "outputId": "963fef3f-9a03-4463-fa00-3c8d581dc63b"
      },
      "source": [
        "def insertion_sort(array):\n",
        "    for i in range(1, len(array)):\n",
        "        for j in range(i-1, 0, -1):\n",
        "            if array[j] > array[j+1]:\n",
        "                array[j], array[j+1] = array[j+1], array[j]\n",
        "    return array\n",
        "\n",
        "insertion_sort(nums)    "
      ],
      "execution_count": 44,
      "outputs": [
        {
          "output_type": "execute_result",
          "data": {
            "text/plain": [
              "array([  1,   2,   4,   5,   5,   7,   7,  10,  12,  12,  14,  14,  15,\n",
              "        16,  17,  18,  19,  19,  20,  20,  21,  24,  25,  27,  30,  33,\n",
              "        33,  34,  34,  35,  41,  45,  47,  48,  50,  51,  53,  55,  56,\n",
              "        59,  60,  60,  60,  65,  66,  66,  67,  68,  70,  70,  72,  74,\n",
              "        78,  79,  79,  79,  79,  85,  86,  87,  88,  89,  92,  93,  93,\n",
              "        93,  95,  95,  95,  96,  97,  98,  98, 101, 103, 105, 106, 108,\n",
              "       108, 114, 116, 116, 119, 121, 122, 124, 124, 124, 126, 131, 132,\n",
              "       133, 133, 134, 135, 141, 146, 147, 149, 149])"
            ]
          },
          "metadata": {
            "tags": []
          },
          "execution_count": 44
        }
      ]
    },
    {
      "cell_type": "markdown",
      "metadata": {
        "id": "G5C9EeLJj1Bv",
        "colab_type": "text"
      },
      "source": [
        "## Quick sort\n",
        "Recursive.  Choose a pivot, usually the first or last element in array, and sort elements that are smaller to the left and elements that are larger to the right.  Swapping the first true after the first false with the first false. Then the array can be divided in half for each half to be sorted, etc... <br>\n",
        "Runtime avg, worst: O(nlogn), O(n^2). Space O(logn) if no empty arrays are used, O(n) if they are."
      ]
    },
    {
      "cell_type": "code",
      "metadata": {
        "id": "0E20Ew3fj1QB",
        "colab_type": "code",
        "colab": {
          "base_uri": "https://localhost:8080/",
          "height": 1000
        },
        "outputId": "5fac56ec-85ef-41dc-8e3b-82bf0c88646c"
      },
      "source": [
        "def quicksort(array):\n",
        "    if len(array) <= 1:\n",
        "        return array\n",
        "    left, mid_pivot, right = [],[],[]\n",
        "    pivot = array[random.randint(0,len(array)-1)]\n",
        "\n",
        "    for i in array:\n",
        "        if i < pivot:\n",
        "            left.append(i)\n",
        "        elif i == pivot:\n",
        "            mid_pivot.append(i)\n",
        "        else:\n",
        "            right.append(i) \n",
        "    return quicksort(left) + mid_pivot + quicksort(right)\n",
        "\n",
        "quicksort(nums)      "
      ],
      "execution_count": 46,
      "outputs": [
        {
          "output_type": "execute_result",
          "data": {
            "text/plain": [
              "[1,\n",
              " 2,\n",
              " 4,\n",
              " 5,\n",
              " 5,\n",
              " 7,\n",
              " 7,\n",
              " 10,\n",
              " 12,\n",
              " 12,\n",
              " 14,\n",
              " 14,\n",
              " 15,\n",
              " 16,\n",
              " 17,\n",
              " 18,\n",
              " 19,\n",
              " 19,\n",
              " 20,\n",
              " 20,\n",
              " 21,\n",
              " 24,\n",
              " 25,\n",
              " 27,\n",
              " 30,\n",
              " 33,\n",
              " 33,\n",
              " 34,\n",
              " 34,\n",
              " 35,\n",
              " 41,\n",
              " 45,\n",
              " 47,\n",
              " 48,\n",
              " 50,\n",
              " 51,\n",
              " 53,\n",
              " 55,\n",
              " 56,\n",
              " 59,\n",
              " 60,\n",
              " 60,\n",
              " 60,\n",
              " 65,\n",
              " 66,\n",
              " 66,\n",
              " 67,\n",
              " 68,\n",
              " 70,\n",
              " 70,\n",
              " 72,\n",
              " 74,\n",
              " 78,\n",
              " 79,\n",
              " 79,\n",
              " 79,\n",
              " 79,\n",
              " 85,\n",
              " 86,\n",
              " 87,\n",
              " 88,\n",
              " 89,\n",
              " 92,\n",
              " 93,\n",
              " 93,\n",
              " 93,\n",
              " 95,\n",
              " 95,\n",
              " 95,\n",
              " 96,\n",
              " 97,\n",
              " 98,\n",
              " 98,\n",
              " 101,\n",
              " 103,\n",
              " 105,\n",
              " 106,\n",
              " 108,\n",
              " 108,\n",
              " 114,\n",
              " 116,\n",
              " 116,\n",
              " 119,\n",
              " 121,\n",
              " 122,\n",
              " 124,\n",
              " 124,\n",
              " 124,\n",
              " 126,\n",
              " 131,\n",
              " 132,\n",
              " 133,\n",
              " 133,\n",
              " 134,\n",
              " 135,\n",
              " 141,\n",
              " 146,\n",
              " 147,\n",
              " 149,\n",
              " 149]"
            ]
          },
          "metadata": {
            "tags": []
          },
          "execution_count": 46
        }
      ]
    },
    {
      "cell_type": "markdown",
      "metadata": {
        "id": "0PG7w-lKjn-9",
        "colab_type": "text"
      },
      "source": [
        "## Merge sort\n",
        "Array divided into two repeatedly until there are many arrays of 1 item.  Items are merged together into lists that are in the correct order.<br>\n",
        "Time O(n*Log n) in both cases.  Space O(n)."
      ]
    },
    {
      "cell_type": "code",
      "metadata": {
        "id": "lsc-9F_pjaau",
        "colab_type": "code",
        "colab": {
          "base_uri": "https://localhost:8080/",
          "height": 1000
        },
        "outputId": "5cf03abb-ec34-4a11-e6ef-90c3ef6bc6a0"
      },
      "source": [
        "def merge(array1,array2): # Helper function\n",
        "    array3 = []\n",
        "    array1_index, array2_index = 0,0\n",
        "    while array1_index < len(array1) and array2_index < len(array2):\n",
        "        if array1[array1_index] < array2[array2_index]:\n",
        "            array3.append(array1[array1_index])\n",
        "            array1_index += 1\n",
        "        else:\n",
        "            array3.append(array2[array2_index])\n",
        "            array2_index += 1   \n",
        "    if array1_index == len(array1): \n",
        "        array3.extend(array2[array2_index:]) \n",
        "    else:\n",
        "        array3.extend(array1[array1_index:])            \n",
        "    return array3\n",
        "\n",
        "\n",
        "def merge_sort(array):\n",
        "    if len(array) <= 1:\n",
        "        return array\n",
        "    left, right = merge_sort(array[:len(array)//2]), merge_sort(array[len(array)//2:])  \n",
        "    return merge(left, right) \n",
        "\n",
        "\n",
        "merge_sort(nums)     "
      ],
      "execution_count": 49,
      "outputs": [
        {
          "output_type": "execute_result",
          "data": {
            "text/plain": [
              "[1,\n",
              " 2,\n",
              " 4,\n",
              " 5,\n",
              " 5,\n",
              " 7,\n",
              " 7,\n",
              " 10,\n",
              " 12,\n",
              " 12,\n",
              " 14,\n",
              " 14,\n",
              " 15,\n",
              " 16,\n",
              " 17,\n",
              " 18,\n",
              " 19,\n",
              " 19,\n",
              " 20,\n",
              " 20,\n",
              " 21,\n",
              " 24,\n",
              " 25,\n",
              " 27,\n",
              " 30,\n",
              " 33,\n",
              " 33,\n",
              " 34,\n",
              " 34,\n",
              " 35,\n",
              " 41,\n",
              " 45,\n",
              " 47,\n",
              " 48,\n",
              " 50,\n",
              " 51,\n",
              " 53,\n",
              " 55,\n",
              " 56,\n",
              " 59,\n",
              " 60,\n",
              " 60,\n",
              " 60,\n",
              " 65,\n",
              " 66,\n",
              " 66,\n",
              " 67,\n",
              " 68,\n",
              " 70,\n",
              " 70,\n",
              " 72,\n",
              " 74,\n",
              " 78,\n",
              " 79,\n",
              " 79,\n",
              " 79,\n",
              " 79,\n",
              " 85,\n",
              " 86,\n",
              " 87,\n",
              " 88,\n",
              " 89,\n",
              " 92,\n",
              " 93,\n",
              " 93,\n",
              " 93,\n",
              " 95,\n",
              " 95,\n",
              " 95,\n",
              " 96,\n",
              " 97,\n",
              " 98,\n",
              " 98,\n",
              " 101,\n",
              " 103,\n",
              " 105,\n",
              " 106,\n",
              " 108,\n",
              " 108,\n",
              " 114,\n",
              " 116,\n",
              " 116,\n",
              " 119,\n",
              " 121,\n",
              " 122,\n",
              " 124,\n",
              " 124,\n",
              " 124,\n",
              " 126,\n",
              " 131,\n",
              " 132,\n",
              " 133,\n",
              " 133,\n",
              " 134,\n",
              " 135,\n",
              " 141,\n",
              " 146,\n",
              " 147,\n",
              " 149,\n",
              " 149]"
            ]
          },
          "metadata": {
            "tags": []
          },
          "execution_count": 49
        }
      ]
    },
    {
      "cell_type": "code",
      "metadata": {
        "id": "dckyw_I0rs1y",
        "colab_type": "code",
        "colab": {}
      },
      "source": [
        ""
      ],
      "execution_count": null,
      "outputs": []
    }
  ]
}